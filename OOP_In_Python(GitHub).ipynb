{
  "nbformat": 4,
  "nbformat_minor": 0,
  "metadata": {
    "colab": {
      "provenance": [],
      "authorship_tag": "ABX9TyOSsWEdMduHmGQzZhwdZM8N",
      "include_colab_link": true
    },
    "kernelspec": {
      "name": "python3",
      "display_name": "Python 3"
    },
    "language_info": {
      "name": "python"
    }
  },
  "cells": [
    {
      "cell_type": "markdown",
      "metadata": {
        "id": "view-in-github",
        "colab_type": "text"
      },
      "source": [
        "<a href=\"https://colab.research.google.com/github/BumaranChe/Object_Oriented_Programming_In_Python/blob/main/OOP_In_Python(GitHub).ipynb\" target=\"_parent\"><img src=\"https://colab.research.google.com/assets/colab-badge.svg\" alt=\"Open In Colab\"/></a>"
      ]
    },
    {
      "cell_type": "markdown",
      "source": [
        "# **Object Oriented Programming in Python**"
      ],
      "metadata": {
        "id": "S-U2zGPpORRH"
      }
    },
    {
      "cell_type": "markdown",
      "source": [
        "Class is a blueprint/recipe for creating objects.\n",
        "\n",
        "Objects are basically copies (can create more than 1 object) created from the class.\n",
        "\n",
        "In the **class** you will need 2 main things:\n",
        "\n",
        "1.) **Properties** (Characteristics, what traits does it have??)\n",
        "\n",
        "2.) **Methods** (Functions, what can it do??)\n",
        "\n",
        "\n"
      ],
      "metadata": {
        "id": "ewNnSvjtOpUx"
      }
    },
    {
      "cell_type": "markdown",
      "source": [
        "# **Sample 1:**\n",
        "\n",
        "Let's write a **class** named Car that has **properties** make, model, and year.\n",
        "\n",
        "Let's create a **method** display_info that prints out the car's information.\n",
        "\n",
        "Then, we create an instace/object of the Car class and call the display_info method."
      ],
      "metadata": {
        "id": "QNU0rWSPPogT"
      }
    },
    {
      "cell_type": "code",
      "source": [
        "class Car: # class/ blueprint\n",
        "\n",
        "  def __init__(self,make,model,year): # constructor / characteristic / properties\n",
        "    self.make = make\n",
        "    self.model = model\n",
        "    self.year = year\n",
        "\n",
        "  def display_info(self):  # methods\n",
        "    print(f\"Car info: {self.year} {self.make} {self.model}\")\n",
        "\n",
        "\n",
        "my_car=Car(\"Toyota\",\"Corolla\",2020) # instance / object\n",
        "\n",
        "my_car.display_info() # calling methods"
      ],
      "metadata": {
        "colab": {
          "base_uri": "https://localhost:8080/"
        },
        "id": "UKPQNMeiOeV3",
        "outputId": "b48abe4d-57ab-44e5-8e6e-2c349ac6a67c"
      },
      "execution_count": 1,
      "outputs": [
        {
          "output_type": "stream",
          "name": "stdout",
          "text": [
            "Car info: 2020 Toyota Corolla\n"
          ]
        }
      ]
    },
    {
      "cell_type": "markdown",
      "source": [
        "# **Sample 2:**\n",
        "\n",
        "Let's write a **class** named Car that has the following **properties**:\n",
        "\n",
        "1.) make (car brand)\n",
        "\n",
        "2.) model (car model)\n",
        "\n",
        "3.) year (year of manufacture)\n",
        "\n",
        "4.) color (color of the car)\n",
        "\n",
        "5.) engine_status (on/off)\n",
        "\n",
        "Then, the class should have the following **methods** ⁉\n",
        "\n",
        "1.) start_engine():\n",
        "\n",
        "If the engine status is off, change it to on and print \"Starting engine of (car description)\". If the engine status is on, print \"Engine is already turned on\".\n",
        "\n",
        "2.) drive():\n",
        "\n",
        "If the engine status is off, print \"Start the engine first before driving\". If the engine status is on, print \"Driving the (description of the car)\".\n",
        "\n",
        "\n",
        "3.) stop_engine():\n",
        "\n",
        "If the engine status is on, change it to off and print \"Stopping engine of (car description)\". If the engine status is off, print \"Engine is already turned off\".\n",
        "\n",
        "Create an instance/object of Car and test the methods."
      ],
      "metadata": {
        "id": "i9h-q3nCQLzI"
      }
    },
    {
      "cell_type": "code",
      "source": [
        "class Car: #class/blueprint\n",
        "\n",
        "  def __init__(self,make,model,year,color,engine_status): #constructor / characteristic / properties\n",
        "    self.make = make\n",
        "    self.model = model\n",
        "    self.year = year\n",
        "    self.color = color\n",
        "    self.engine_status = engine_status\n",
        "\n",
        "  def startEngine(self): #method 1\n",
        "    if(not self.engine_status): # if false\n",
        "      self.engine_status = True\n",
        "      print(\"Starting engine of \"+ self.make + \" \" + self.model + \".\")\n",
        "    else:\n",
        "      print(\"Engine is already turned on!\")\n",
        "\n",
        "  def drive(self):#method 2\n",
        "    if(not self.engine_status): # if false\n",
        "      print(\"Start the engine first before driving!\")\n",
        "    else:\n",
        "      print(\"Driving the \" + self.make + \" \" + self.model + \".\")\n",
        "\n",
        "  def stopEngine(self): #method 3\n",
        "    if(self.engine_status): #if True\n",
        "      self.engine_status = False\n",
        "      print(\"Stopping engine of \" + self.make + \" \" + self.model + \".\")\n",
        "    else:\n",
        "      print(\"Engine is already turned off!\")\n",
        "\n",
        "\n",
        "car1 = Car(\"BMW\", \"i7\", 2022, \"red\", True); #object/instance\n",
        "car1.startEngine(); #calling methods\n",
        "car1.stopEngine() #calling methods\n",
        "car1.stopEngine() #calling methods\n",
        "car1.drive() #calling methods\n",
        "car1.startEngine(); #calling methods\n",
        "car1.drive() #calling methods"
      ],
      "metadata": {
        "colab": {
          "base_uri": "https://localhost:8080/"
        },
        "id": "k3XDUB3WQlbt",
        "outputId": "ffae1bca-3c6b-46fe-a167-2cb6845b7cb9"
      },
      "execution_count": 2,
      "outputs": [
        {
          "output_type": "stream",
          "name": "stdout",
          "text": [
            "Engine is already turned on!\n",
            "Stopping engine of BMW i7.\n",
            "Engine is already turned off!\n",
            "Start the engine first before driving!\n",
            "Starting engine of BMW i7.\n",
            "Driving the BMW i7.\n"
          ]
        }
      ]
    },
    {
      "cell_type": "markdown",
      "source": [
        "# **Sample 3:**\n",
        "\n",
        "Let's write a **class** named Student that has **properties** of:\n",
        "\n",
        "1.) name and\n",
        "\n",
        "2.) grades (a list of grades).\n",
        "\n",
        "Then, create **methods**:\n",
        "\n",
        "1.) add_grade to add a grade to the list and\n",
        "\n",
        "2.) calculate_average to calculate and return the average grade.\n",
        "\n",
        "\n",
        "Create an instance/object of Student and test the methods."
      ],
      "metadata": {
        "id": "KGfAPnJbTDia"
      }
    },
    {
      "cell_type": "code",
      "source": [
        "class Student:\n",
        "    def __init__(self, name): # constructor/characteristic\n",
        "        self.name = name\n",
        "        self.grades = [] #auto initialize grades\n",
        "\n",
        "    def add_grade(self, grade): #method 1\n",
        "        self.grades.append(grade) #append grade marks in grades list (self.grades[])\n",
        "        print(f\"Added grade: {grade}.\")\n",
        "\n",
        "    def calculate_average(self): #method 2\n",
        "        if len(self.grades) == 0:\n",
        "            return 0\n",
        "        average = sum(self.grades) / len(self.grades)\n",
        "        return round(average,2)\n",
        "\n",
        "student = Student(\"Alice\") # object/instance\n",
        "\n",
        "student.add_grade(70) #calling methods\n",
        "student.add_grade(66) #calling methods\n",
        "student.add_grade(48) #calling methods\n",
        "print(f\"Average grade: {student.calculate_average()}\") # calling methods and print output"
      ],
      "metadata": {
        "colab": {
          "base_uri": "https://localhost:8080/"
        },
        "id": "oEBvRbkcT20I",
        "outputId": "0f7675a7-0e7f-4e30-e97f-31176fcdbc1b"
      },
      "execution_count": 4,
      "outputs": [
        {
          "output_type": "stream",
          "name": "stdout",
          "text": [
            "Added grade: 70.\n",
            "Added grade: 66.\n",
            "Added grade: 48.\n",
            "Average grade: 61.33\n"
          ]
        }
      ]
    },
    {
      "cell_type": "markdown",
      "source": [
        "# **Sample 4:**\n",
        "\n",
        "Let's write a **class** named Book that has properties:\n",
        "\n",
        "1.) title,\n",
        "\n",
        "2.) author,\n",
        "\n",
        "3.) year_published.\n",
        "\n",
        "\n",
        "Create a **method**\n",
        "\n",
        "1.) get_info that prints a string with the book's information.\n",
        "\n",
        "\n",
        "Create a **subclass** EBook that adds the attribute file_size.\n",
        "\n",
        "Then, overwrite the get_info method to include the file size.\n",
        "\n",
        "\n",
        "Create **instances/objects** of Book and EBook and test the methods.\n",
        "\n",
        "\n",
        "Concept of Inheritance\n"
      ],
      "metadata": {
        "id": "maL9EIuAVHhY"
      }
    },
    {
      "cell_type": "code",
      "source": [
        "class Book: #class/bueprint\n",
        "    def __init__(self, title, author, year_published): #contructor / characteristic / properties\n",
        "        self.title = title\n",
        "        self.author = author\n",
        "        self.year_published = year_published\n",
        "\n",
        "\n",
        "    def get_info(self): # method 1\n",
        "        print(f\"'{self.title}' by {self.author}, published in {self.year_published}\")\n",
        "\n",
        "class EBook(Book): #subclass\n",
        "    def __init__(self, title, author, year_published, file_size): # subclass contructor / characteristic / properties\n",
        "        super().__init__(title, author, year_published)\n",
        "        self.file_size = file_size # auto initialize (file_size)\n",
        "\n",
        "    def get_info(self): # method (overwrites method 1)\n",
        "        print(f\"'{self.title}' by {self.author}, published in {self.year_published}, file size: {self.file_size}MB\")\n",
        "\n",
        "book = Book(\"Digital Fortress\", \"Dan Brown\", 1998) # object / instance\n",
        "ebook = EBook(\"Digital Fortress\", \"Dan Brown\", 1998, 2.5) # object / instance\n",
        "\n",
        "book.get_info() # calling method\n",
        "ebook.get_info() #calling method"
      ],
      "metadata": {
        "colab": {
          "base_uri": "https://localhost:8080/"
        },
        "id": "VwYEJhgrWKWq",
        "outputId": "3824759e-4e84-4cd8-ac6c-ba99b8aed089"
      },
      "execution_count": 6,
      "outputs": [
        {
          "output_type": "stream",
          "name": "stdout",
          "text": [
            "'Digital Fortress' by Dan Brown, published in 1998\n",
            "'Digital Fortress' by Dan Brown, published in 1998, file size: 2.5MB\n"
          ]
        }
      ]
    },
    {
      "cell_type": "markdown",
      "source": [
        "# **Sample 5:**\n",
        "\n",
        "Write a **class** named Shape with **properties** as below :\n",
        "\n",
        "1.) shape_type\n",
        "\n",
        "2.) width\n",
        "\n",
        "3.) height\n",
        "\n",
        "4.) radiues\n",
        "\n",
        "\n",
        "Then, calculate the area of both a rectangle and a circle. **Methods** as below:\n",
        "\n",
        "1.) set_rectangle\n",
        "\n",
        "2.) set_circle\n",
        "\n",
        "3.) area - to calculate either rectangle or circle\n",
        "\n",
        "Create instances/objects of Shape and test the methods."
      ],
      "metadata": {
        "id": "b1gKJkZ8XvnW"
      }
    },
    {
      "cell_type": "code",
      "source": [
        "class Shape: # class/blueprint\n",
        "    def __init__(self): # contructor / properties / characteristic\n",
        "        self.shape_type = None #auto initialize (shape_type)\n",
        "        self.width = None #auto initialize (width)\n",
        "        self.height = None #auto initialize (height)\n",
        "        self.radius = None #auto initialize (radius)\n",
        "\n",
        "    def set_rectangle(self, width, height): #method 1\n",
        "        self.shape_type = \"rectangle\"\n",
        "        self.width = width\n",
        "        self.height = height\n",
        "\n",
        "    def set_circle(self, radius): #method 2\n",
        "        self.shape_type = \"circle\"\n",
        "        self.radius = radius\n",
        "\n",
        "    def area(self): # method 3\n",
        "        if self.shape_type == \"rectangle\":\n",
        "            return self.width * self.height\n",
        "        elif self.shape_type == \"circle\":\n",
        "            return 3.14 * self.radius ** 2\n",
        "        else:\n",
        "            return 0\n",
        "\n",
        "shape = Shape() #object / instance\n",
        "\n",
        "shape.set_rectangle(4, 8) # calling method\n",
        "print(f\"Rectangle area: {shape.area()}\")\n",
        "\n",
        "shape.set_circle(5)# calling method\n",
        "print(f\"Circle area: {shape.area()}\")"
      ],
      "metadata": {
        "colab": {
          "base_uri": "https://localhost:8080/"
        },
        "id": "A3LVStqLZEf0",
        "outputId": "d6c6830d-4e8e-4d4f-f3d9-03b7d8544677"
      },
      "execution_count": 7,
      "outputs": [
        {
          "output_type": "stream",
          "name": "stdout",
          "text": [
            "Rectangle area: 32\n",
            "Circle area: 78.5\n"
          ]
        }
      ]
    }
  ]
}